{
 "cells": [
  {
   "cell_type": "code",
   "execution_count": null,
   "id": "df8e7925",
   "metadata": {},
   "outputs": [],
   "source": [
    "import pandas as pd\n",
    "\n",
    "# Load the dataset\n",
    "df = pd.read_csv('data/sample_ab_test.csv')\n",
    "df.head()\n"
   ]
  },
  {
   "cell_type": "code",
   "execution_count": null,
   "id": "69b52f4a",
   "metadata": {},
   "outputs": [],
   "source": [
    "df.info()\n",
    "df['group'].value_counts()\n",
    "df['converted'].value_counts()\n"
   ]
  },
  {
   "cell_type": "code",
   "execution_count": null,
   "id": "e687230f",
   "metadata": {},
   "outputs": [],
   "source": [
    "group_A = df[df['group'] == 'A']\n",
    "group_B = df[df['group'] == 'B']\n",
    "\n",
    "conv_A = group_A['converted'].mean()\n",
    "conv_B = group_B['converted'].mean()\n",
    "\n",
    "print(f\"Conversion Rate - Group A: {conv_A:.2%}\")\n",
    "print(f\"Conversion Rate - Group B: {conv_B:.2%}\")\n"
   ]
  },
  {
   "cell_type": "code",
   "execution_count": null,
   "id": "5db05155",
   "metadata": {},
   "outputs": [],
   "source": [
    "from statsmodels.stats.proportion import proportions_ztest\n",
    "\n",
    "success = [group_A['converted'].sum(), group_B['converted'].sum()]\n",
    "nobs = [group_A.shape[0], group_B.shape[0]]\n",
    "\n",
    "z_stat, p_val = proportions_ztest(success, nobs, alternative='two-sided')\n",
    "\n",
    "print(f\"Z-Statistic: {z_stat:.3f}\")\n",
    "print(f\"P-Value: {p_val:.4f}\")\n"
   ]
  },
  {
   "cell_type": "code",
   "execution_count": null,
   "id": "3f0f4aa0",
   "metadata": {},
   "outputs": [],
   "source": [
    "alpha = 0.05  # for 95% confidence\n",
    "\n",
    "if p_val < alpha:\n",
    "    print(\"✅ Statistically significant difference found.\")\n",
    "    print(\"Better Group:\", \"B\" if conv_B > conv_A else \"A\")\n",
    "else:\n",
    "    print(\"❌ No statistically significant difference.\")\n"
   ]
  },
  {
   "cell_type": "code",
   "execution_count": null,
   "id": "b66602c8",
   "metadata": {},
   "outputs": [],
   "source": [
    "from statsmodels.stats.proportion import proportions_ztest\n"
   ]
  },
  {
   "cell_type": "code",
   "execution_count": null,
   "id": "93106392",
   "metadata": {},
   "outputs": [],
   "source": [
    "import matplotlib.pyplot as plt\n",
    "import seaborn as sns\n"
   ]
  },
  {
   "cell_type": "code",
   "execution_count": null,
   "id": "0a1fad84",
   "metadata": {},
   "outputs": [],
   "source": [
    "# Prepare data\n",
    "plot_data = pd.DataFrame({\n",
    "    'Group': ['A', 'B'],\n",
    "    'Conversion Rate': [conv_A, conv_B]\n",
    "})\n",
    "\n",
    "# Plot\n",
    "sns.set(style='whitegrid')\n",
    "plt.figure(figsize=(6, 4))\n",
    "sns.barplot(x='Group', y='Conversion Rate', data=plot_data, palette='pastel')\n",
    "plt.title('Conversion Rate Comparison (A vs B)', fontsize=14)\n",
    "plt.ylim(0, 1)\n",
    "plt.ylabel('Conversion Rate')\n",
    "plt.xlabel('Group')\n",
    "plt.tight_layout()\n",
    "plt.show()\n"
   ]
  },
  {
   "cell_type": "code",
   "execution_count": null,
   "id": "e3d75833",
   "metadata": {},
   "outputs": [],
   "source": [
    "df['converted_label'] = df['converted'].map({0: 'No', 1: 'Yes'})\n",
    "\n",
    "plt.figure(figsize=(7, 5))\n",
    "sns.countplot(x='group', hue='converted_label', data=df, palette='Set2')\n",
    "plt.title('Conversions Count by Group')\n",
    "plt.xlabel('Group')\n",
    "plt.ylabel('User Count')\n",
    "plt.legend(title='Converted?')\n",
    "plt.tight_layout()\n",
    "plt.show()\n"
   ]
  },
  {
   "cell_type": "code",
   "execution_count": null,
   "id": "7df06430",
   "metadata": {},
   "outputs": [],
   "source": []
  }
 ],
 "metadata": {
  "kernelspec": {
   "display_name": "venv",
   "language": "python",
   "name": "python3"
  },
  "language_info": {
   "name": "python",
   "version": "3.13.3"
  }
 },
 "nbformat": 4,
 "nbformat_minor": 5
}
